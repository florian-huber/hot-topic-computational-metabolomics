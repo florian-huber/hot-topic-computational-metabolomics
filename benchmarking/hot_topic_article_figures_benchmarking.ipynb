{
 "cells": [
  {
   "cell_type": "code",
   "execution_count": 1,
   "id": "8d3a58b5",
   "metadata": {},
   "outputs": [],
   "source": [
    "import os\n",
    "\n",
    "import matplotlib.pyplot as plt\n",
    "import numpy as np\n",
    "import pandas as pd"
   ]
  },
  {
   "cell_type": "markdown",
   "id": "6f9cf9da",
   "metadata": {},
   "source": [
    "# Figure 2 - chemical space"
   ]
  },
  {
   "cell_type": "code",
   "execution_count": 2,
   "id": "17b29d58",
   "metadata": {},
   "outputs": [
    {
     "data": {
      "text/html": [
       "<div>\n",
       "<style scoped>\n",
       "    .dataframe tbody tr th:only-of-type {\n",
       "        vertical-align: middle;\n",
       "    }\n",
       "\n",
       "    .dataframe tbody tr th {\n",
       "        vertical-align: top;\n",
       "    }\n",
       "\n",
       "    .dataframe thead th {\n",
       "        text-align: right;\n",
       "    }\n",
       "</style>\n",
       "<table border=\"1\" class=\"dataframe\">\n",
       "  <thead>\n",
       "    <tr style=\"text-align: right;\">\n",
       "      <th></th>\n",
       "      <th>class</th>\n",
       "      <th>count</th>\n",
       "    </tr>\n",
       "  </thead>\n",
       "  <tbody>\n",
       "    <tr>\n",
       "      <th>0</th>\n",
       "      <td>Prenol lipids</td>\n",
       "      <td>2572</td>\n",
       "    </tr>\n",
       "    <tr>\n",
       "      <th>1</th>\n",
       "      <td>Carboxylic acids and derivatives</td>\n",
       "      <td>2366</td>\n",
       "    </tr>\n",
       "    <tr>\n",
       "      <th>2</th>\n",
       "      <td>Benzene and substituted derivatives</td>\n",
       "      <td>2034</td>\n",
       "    </tr>\n",
       "    <tr>\n",
       "      <th>3</th>\n",
       "      <td>Organooxygen compounds</td>\n",
       "      <td>1415</td>\n",
       "    </tr>\n",
       "    <tr>\n",
       "      <th>4</th>\n",
       "      <td>Steroids and steroid derivatives</td>\n",
       "      <td>1299</td>\n",
       "    </tr>\n",
       "  </tbody>\n",
       "</table>\n",
       "</div>"
      ],
      "text/plain": [
       "                                 class  count\n",
       "0                        Prenol lipids   2572\n",
       "1     Carboxylic acids and derivatives   2366\n",
       "2  Benzene and substituted derivatives   2034\n",
       "3               Organooxygen compounds   1415\n",
       "4     Steroids and steroid derivatives   1299"
      ]
     },
     "execution_count": 2,
     "metadata": {},
     "output_type": "execute_result"
    }
   ],
   "source": [
    "data_classes = pd.read_csv(\"figures_data/gnps_classes.tbd\", sep=\"\\t\")\n",
    "data_classes.head()"
   ]
  },
  {
   "cell_type": "code",
   "execution_count": 3,
   "id": "92c8fa63",
   "metadata": {},
   "outputs": [
    {
     "data": {
      "text/html": [
       "<div>\n",
       "<style scoped>\n",
       "    .dataframe tbody tr th:only-of-type {\n",
       "        vertical-align: middle;\n",
       "    }\n",
       "\n",
       "    .dataframe tbody tr th {\n",
       "        vertical-align: top;\n",
       "    }\n",
       "\n",
       "    .dataframe thead th {\n",
       "        text-align: right;\n",
       "    }\n",
       "</style>\n",
       "<table border=\"1\" class=\"dataframe\">\n",
       "  <thead>\n",
       "    <tr style=\"text-align: right;\">\n",
       "      <th></th>\n",
       "      <th>class</th>\n",
       "      <th>count</th>\n",
       "    </tr>\n",
       "  </thead>\n",
       "  <tbody>\n",
       "    <tr>\n",
       "      <th>0</th>\n",
       "      <td>Orbitrap</td>\n",
       "      <td>211219</td>\n",
       "    </tr>\n",
       "    <tr>\n",
       "      <th>1</th>\n",
       "      <td>TOF</td>\n",
       "      <td>45740</td>\n",
       "    </tr>\n",
       "    <tr>\n",
       "      <th>2</th>\n",
       "      <td>Fourier transform</td>\n",
       "      <td>40816</td>\n",
       "    </tr>\n",
       "    <tr>\n",
       "      <th>3</th>\n",
       "      <td>Quadruple</td>\n",
       "      <td>11604</td>\n",
       "    </tr>\n",
       "    <tr>\n",
       "      <th>4</th>\n",
       "      <td>Ion trap</td>\n",
       "      <td>4396</td>\n",
       "    </tr>\n",
       "  </tbody>\n",
       "</table>\n",
       "</div>"
      ],
      "text/plain": [
       "               class   count\n",
       "0           Orbitrap  211219\n",
       "1                TOF   45740\n",
       "2  Fourier transform   40816\n",
       "3          Quadruple   11604\n",
       "4           Ion trap    4396"
      ]
     },
     "execution_count": 3,
     "metadata": {},
     "output_type": "execute_result"
    }
   ],
   "source": [
    "data_instruments = pd.read_csv(\"figures_data/gnps_instruments.tbd\", sep=\"\\t\")\n",
    "data_instruments.head()"
   ]
  },
  {
   "cell_type": "code",
   "execution_count": 4,
   "id": "79f62625",
   "metadata": {},
   "outputs": [
    {
     "data": {
      "text/plain": [
       "['Prenol lipids',\n",
       " 'Carboxylic acids and derivatives',\n",
       " 'Benzene and substituted derivatives',\n",
       " 'Organooxygen compounds',\n",
       " 'Steroids and steroid derivatives',\n",
       " 'Flavonoids',\n",
       " 'Unknown',\n",
       " 'Fatty Acyls',\n",
       " 'Indoles and derivatives',\n",
       " 'Coumarins and derivatives',\n",
       " 'Peptidomimetics',\n",
       " 'Quinolines and derivatives',\n",
       " 'Isoflavonoids',\n",
       " 'Glycerophospholipids',\n",
       " 'Benzopyrans',\n",
       " 'Cinnamic acids and derivatives',\n",
       " 'Azoles',\n",
       " 'Glycerolipids',\n",
       " 'Organonitrogen compounds',\n",
       " 'Pyridines and derivatives',\n",
       " 'Imidazopyrimidines',\n",
       " 'Phenols',\n",
       " 'Linear 1,3-diarylpropanoids',\n",
       " 'Diazanaphthalenes',\n",
       " 'Lupin alkaloids',\n",
       " 'Phenol ethers',\n",
       " 'Aporphines',\n",
       " 'Macrolides and analogues',\n",
       " 'Stilbenes',\n",
       " 'Naphthalenes',\n",
       " 'Piperidines',\n",
       " 'Isoquinolines and derivatives',\n",
       " 'Diazines',\n",
       " 'Harmala alkaloids',\n",
       " 'Diazinanes',\n",
       " 'Anthracenes',\n",
       " 'Macrolactams',\n",
       " 'Lactones',\n",
       " 'Purine nucleosides',\n",
       " 'Benzodioxoles',\n",
       " 'Tannins',\n",
       " 'Diarylheptanoids',\n",
       " 'Benzodiazepines',\n",
       " 'Tetrahydroisoquinolines',\n",
       " 'Neoflavonoids',\n",
       " 'Pyrans',\n",
       " 'Sphingolipids',\n",
       " 'Naphthopyrans',\n",
       " 'Depsides and depsidones',\n",
       " 'Phenanthrenes and derivatives',\n",
       " 'Hydroxy acids and derivatives',\n",
       " 'Saccharolipids',\n",
       " 'Naphthofurans',\n",
       " 'Purine nucleotides',\n",
       " 'Aurone flavonoids',\n",
       " 'Benzazepines',\n",
       " '2-arylbenzofuran flavonoids',\n",
       " 'Benzofurans',\n",
       " 'Protoberberine alkaloids and derivatives',\n",
       " 'Polypeptides',\n",
       " 'Furanoid lignans',\n",
       " 'Benzimidazoles',\n",
       " 'Triazines',\n",
       " 'Lignan glycosides',\n",
       " 'Pyrimidine nucleosides',\n",
       " 'Strychnos alkaloids',\n",
       " 'Isoindoles and derivatives',\n",
       " 'Benzothiazines',\n",
       " 'Tetralins',\n",
       " 'Pyrimidine nucleotides',\n",
       " 'Phenylpropanoic acids',\n",
       " 'Lactams',\n",
       " 'Corynanthean-type alkaloids',\n",
       " 'Ergoline and derivatives',\n",
       " 'Dihydrofurans',\n",
       " 'Cinchona alkaloids',\n",
       " 'Yohimbine alkaloids',\n",
       " 'Pyrrolidines',\n",
       " 'Azolidines',\n",
       " 'Tetracyclines',\n",
       " 'Morphinans',\n",
       " 'Organic phosphoric acids and derivatives',\n",
       " 'Tetrapyrroles and derivatives',\n",
       " 'Isocoumarins and derivatives',\n",
       " 'Azaphilones',\n",
       " 'Tropane alkaloids',\n",
       " 'Pteridines and derivatives',\n",
       " 'Ibogan-type alkaloids',\n",
       " 'Indolizidines',\n",
       " 'Oxazinanes',\n",
       " 'Benzoxazines',\n",
       " 'Oxepanes',\n",
       " 'Phenanthrolines',\n",
       " 'Macroline alkaloids',\n",
       " 'Amaryllidaceae alkaloids',\n",
       " 'Keto acids and derivatives',\n",
       " 'Benzothiazoles',\n",
       " 'Lignan lactones',\n",
       " 'Indanes',\n",
       " 'Organic thiophosphoric acids and derivatives',\n",
       " 'Cytochalasans',\n",
       " 'Camptothecins',\n",
       " 'Aspidofractine alkaloids',\n",
       " 'Kavalactones',\n",
       " 'Furopyrans',\n",
       " \"5'-deoxyribonucleosides\",\n",
       " 'Thioethers',\n",
       " 'Vinca alkaloids',\n",
       " 'Anthracyclines',\n",
       " 'Isocoumarans',\n",
       " 'Carboximidic acids and derivatives',\n",
       " 'Dibenzocycloheptenes',\n",
       " 'Dibenzylbutane lignans',\n",
       " 'Benzodioxanes',\n",
       " 'Sulfoxides',\n",
       " 'Macrolide lactams',\n",
       " 'Pyrrolines',\n",
       " 'Benzotriazoles',\n",
       " 'Pyrroles',\n",
       " 'Vobasan alkaloids',\n",
       " 'Aspidospermatan-type alkaloids',\n",
       " 'Gelsemium alkaloids',\n",
       " 'Organic carbonic acids and derivatives',\n",
       " 'Tropones',\n",
       " 'Aryltetralin lignans',\n",
       " 'Phthalide isoquinolines',\n",
       " 'Pyridopyrimidines',\n",
       " 'Plumeran-type alkaloids',\n",
       " 'Indolonaphthyridine alkaloids',\n",
       " 'Benzophenanthridine alkaloids',\n",
       " 'Azaspirodecane derivatives',\n",
       " 'Ajmaline-sarpagine alkaloids',\n",
       " 'Oxanes',\n",
       " 'Benzoxepines',\n",
       " 'Azobenzenes',\n",
       " 'Eburnan-type alkaloids',\n",
       " 'Homoisoflavonoids',\n",
       " 'Phenol esters',\n",
       " 'Coumarans',\n",
       " \"(5'->5')-dinucleotides\",\n",
       " 'Emetine alkaloids',\n",
       " 'Benzopyrazoles',\n",
       " 'Furans',\n",
       " 'Organic sulfonic acids and derivatives',\n",
       " 'Fluorenes',\n",
       " 'Flavonolignans',\n",
       " 'Organic sulfuric acids and derivatives',\n",
       " '6,6a-secoaporphines',\n",
       " 'Pleiocarpaman alkaloids',\n",
       " 'Cinnamaldehydes',\n",
       " 'Furofurans',\n",
       " 'Angucyclines',\n",
       " 'Isochromanequinones',\n",
       " 'Dioxanes',\n",
       " 'Benzothiopyrans',\n",
       " 'Thiadiazines',\n",
       " 'Pyrenes',\n",
       " 'Indenes and isoindenes',\n",
       " 'Pyrimidodiazepines',\n",
       " 'Benzoxazoles',\n",
       " 'Proaporphines',\n",
       " 'Organic phosphonic acids and derivatives',\n",
       " 'Pyrrolizines',\n",
       " 'Erythrina alkaloids',\n",
       " 'Perylenequinones',\n",
       " 'Nucleoside and nucleotide analogues',\n",
       " 'Isobenzofurans',\n",
       " 'Thienopyridines',\n",
       " 'Triazolopyrimidines',\n",
       " 'Pyrrolizidines',\n",
       " 'Oxocins',\n",
       " 'Thiophenes',\n",
       " 'Quinolizines',\n",
       " 'Benzothiazepines',\n",
       " 'Stemona alkaloids',\n",
       " 'Pyridine nucleotides',\n",
       " 'Vinylogous acids',\n",
       " 'Triphenyl compounds',\n",
       " 'Arylnaphthalene lignans',\n",
       " 'Cinnamyl alcohols',\n",
       " 'Saturated hydrocarbons',\n",
       " 'Non-metal oxoanionic compounds',\n",
       " 'Pyranodioxins',\n",
       " 'Ochratoxins and related substances',\n",
       " 'Biotin and derivatives',\n",
       " 'Cularin alkaloids and derivatives',\n",
       " 'Sterigmatocystins',\n",
       " 'Organometalloid compounds',\n",
       " 'Cycloheptathiophenes',\n",
       " 'Imidazothiazoles',\n",
       " 'Azepanes',\n",
       " 'Dihydroisoquinolines',\n",
       " 'Benzoxazepines',\n",
       " 'Rhoeadine alkaloids',\n",
       " 'Organic dithiophosphoric acids and derivatives',\n",
       " 'Flavin nucleotides',\n",
       " 'Sulfonyls',\n",
       " 'Naphthacenes',\n",
       " 'Pavine alkaloids',\n",
       " 'Protopine alkaloids',\n",
       " 'Organothiophosphorus compounds',\n",
       " 'Benzocycloheptapyridines',\n",
       " 'Azolines',\n",
       " 'Piperazinoazepines',\n",
       " 'Cephalotaxus alkaloids',\n",
       " 'Heteroaromatic compounds',\n",
       " 'Benzothiepins',\n",
       " 'Allyl-type 1,3-dipolar organic compounds',\n",
       " 'Thiochromenes',\n",
       " 'Organic oxoanionic compounds',\n",
       " 'Thiadiazinanes',\n",
       " 'Pyrazolopyrimidines',\n",
       " 'Thioureas',\n",
       " 'Pyranopyridines',\n",
       " 'Quinolizidines',\n",
       " 'Ervatamia alkaloids',\n",
       " 'Imidazole ribonucleosides and ribonucleotides',\n",
       " 'Dioxolopyrans',\n",
       " 'Benzothiophenes',\n",
       " 'Alpha-methyldeoxybenzoin flavonoids',\n",
       " 'Aristolactams',\n",
       " 'Benzothiadiazoles',\n",
       " \"Ribonucleoside 3'-phosphates\",\n",
       " 'Benzo-1,2,3-triazines',\n",
       " 'Epoxides',\n",
       " 'Thiosulfinic acid esters',\n",
       " 'Homoaporphines',\n",
       " 'Pyrroloazepines',\n",
       " 'Vinylogous esters',\n",
       " 'Dithiolanes',\n",
       " 'Rhazinilam alkaloids',\n",
       " 'Benzoxadiazoles',\n",
       " 'Furopyridines',\n",
       " 'Pyrrolopyrazines',\n",
       " 'Pyrrolopyrimidine nucleosides and nucleotides',\n",
       " 'Oxolanes',\n",
       " 'Phenalenes',\n",
       " 'Pyrazolopyridines',\n",
       " 'Thienothiazines',\n",
       " 'Benzimidazole ribonucleosides and ribonucleotides',\n",
       " '6,7-benzomorphans',\n",
       " 'Imidazopyridines',\n",
       " 'Triazinanes',\n",
       " '3,4-dihydrocoumarins',\n",
       " 'Thiocarbonyl compounds',\n",
       " 'Quinolidines',\n",
       " 'Loline alkaloids and derivatives',\n",
       " 'Aryl halides',\n",
       " 'Organic phosphines and derivatives',\n",
       " 'Isothiocyanates',\n",
       " 'Unsaturated hydrocarbons',\n",
       " 'Imidothioesters',\n",
       " 'Imidazodiazepines',\n",
       " 'Brevetoxins and derivatives',\n",
       " 'Daphniphylline-type alkaloids',\n",
       " 'Sulfinic acids and derivatives',\n",
       " 'Azepines',\n",
       " 'Oxazaphosphinanes',\n",
       " 'Imidazotetrazines',\n",
       " 'Benzisoxazoles',\n",
       " 'Pyrrolopyrimidines',\n",
       " 'Cyclobutane lignans',\n",
       " 'Akuammilan and related alkaloids',\n",
       " 'Dioxepanes',\n",
       " 'Thienodiazepines',\n",
       " 'Lumicolchicine alkaloids',\n",
       " 'Thiazinanes',\n",
       " \"(3'->5')-dinucleotides and analogues\",\n",
       " 'Endocannabinoids',\n",
       " 'Other non-metal organides',\n",
       " 'Melodinus alkaloids',\n",
       " 'Vallesaman alkaloids',\n",
       " 'Quebrachamine alkaloids',\n",
       " 'Organic oxides',\n",
       " 'Oxazolopyridines',\n",
       " 'Vinylogous amides',\n",
       " 'Pyranopyrimidines',\n",
       " 'Epibatidine analogues',\n",
       " 'Benzodioxins',\n",
       " 'Coumarinolignans',\n",
       " 'Diazepanes',\n",
       " 'Pyrrolopyridines',\n",
       " 'Sulfamic acid derivatives',\n",
       " 'Homogeneous halogens',\n",
       " 'Triazole ribonucleosides and ribonucleotides',\n",
       " 'Organic disulfides',\n",
       " 'Trithianes',\n",
       " 'Naphthothiazoles',\n",
       " 'Allyl sulfur compounds',\n",
       " 'Organic trisulfides',\n",
       " 'Thiols',\n",
       " 'Homogeneous other non-metal compounds',\n",
       " 'Tetrahydrofurans']"
      ]
     },
     "execution_count": 4,
     "metadata": {},
     "output_type": "execute_result"
    }
   ],
   "source": [
    "data_classes[\"class\"].to_list()"
   ]
  },
  {
   "cell_type": "code",
   "execution_count": 5,
   "id": "1c3d7a9e",
   "metadata": {},
   "outputs": [
    {
     "data": {
      "image/png": "[encoded data removed]",
      "text/plain": [
       "<Figure size 432x288 with 1 Axes>"
      ]
     },
     "metadata": {
      "needs_background": "light"
     },
     "output_type": "display_data"
    }
   ],
   "source": [
    "from clamshell_plot import clamshell_plot\n",
    "\n",
    "clamshell_plot(data_classes[\"count\"],\n",
    "               data_classes[\"class\"].to_list(), 20, \"test.svg\")\n",
    "#plt.xlim(0, 10)"
   ]
  },
  {
   "cell_type": "code",
   "execution_count": 6,
   "id": "10970e18",
   "metadata": {},
   "outputs": [
    {
     "data": {
      "text/html": [
       "<div>\n",
       "<style scoped>\n",
       "    .dataframe tbody tr th:only-of-type {\n",
       "        vertical-align: middle;\n",
       "    }\n",
       "\n",
       "    .dataframe tbody tr th {\n",
       "        vertical-align: top;\n",
       "    }\n",
       "\n",
       "    .dataframe thead th {\n",
       "        text-align: right;\n",
       "    }\n",
       "</style>\n",
       "<table border=\"1\" class=\"dataframe\">\n",
       "  <thead>\n",
       "    <tr style=\"text-align: right;\">\n",
       "      <th></th>\n",
       "      <th>class</th>\n",
       "      <th>count</th>\n",
       "    </tr>\n",
       "  </thead>\n",
       "  <tbody>\n",
       "    <tr>\n",
       "      <th>0</th>\n",
       "      <td>Orbitrap</td>\n",
       "      <td>211219</td>\n",
       "    </tr>\n",
       "    <tr>\n",
       "      <th>1</th>\n",
       "      <td>TOF</td>\n",
       "      <td>45740</td>\n",
       "    </tr>\n",
       "    <tr>\n",
       "      <th>2</th>\n",
       "      <td>Fourier transform</td>\n",
       "      <td>40816</td>\n",
       "    </tr>\n",
       "    <tr>\n",
       "      <th>3</th>\n",
       "      <td>Quadruple</td>\n",
       "      <td>11604</td>\n",
       "    </tr>\n",
       "    <tr>\n",
       "      <th>4</th>\n",
       "      <td>Ion trap</td>\n",
       "      <td>4396</td>\n",
       "    </tr>\n",
       "    <tr>\n",
       "      <th>8</th>\n",
       "      <td>other</td>\n",
       "      <td>543</td>\n",
       "    </tr>\n",
       "  </tbody>\n",
       "</table>\n",
       "</div>"
      ],
      "text/plain": [
       "               class   count\n",
       "0           Orbitrap  211219\n",
       "1                TOF   45740\n",
       "2  Fourier transform   40816\n",
       "3          Quadruple   11604\n",
       "4           Ion trap    4396\n",
       "8              other     543"
      ]
     },
     "execution_count": 6,
     "metadata": {},
     "output_type": "execute_result"
    }
   ],
   "source": [
    "sum_as_other = [\"Unknown\", \"EBEB\", \"CID\"]\n",
    "\n",
    "data_instruments = data_instruments.append({\"class\": \"other\",\n",
    "                                       \"count\": data_instruments[data_instruments[\"class\"].isin(sum_as_other)][\"count\"].sum()},\n",
    "                                       ignore_index=True)\n",
    "data_instruments = data_instruments[~data_instruments[\"class\"].isin(sum_as_other)]\n",
    "data_instruments"
   ]
  },
  {
   "cell_type": "code",
   "execution_count": 7,
   "id": "eaa83d69",
   "metadata": {},
   "outputs": [
    {
     "data": {
      "image/png": "[encoded data removed]",
      "text/plain": [
       "<Figure size 432x288 with 1 Axes>"
      ]
     },
     "metadata": {
      "needs_background": "light"
     },
     "output_type": "display_data"
    }
   ],
   "source": [
    "clamshell_plot(data_instruments[\"count\"],\n",
    "               data_instruments[\"class\"].to_list(), 100, \"test.svg\")"
   ]
  },
  {
   "cell_type": "code",
   "execution_count": null,
   "id": "4c2c3275",
   "metadata": {},
   "outputs": [],
   "source": []
  },
  {
   "cell_type": "markdown",
   "id": "cc3115a2",
   "metadata": {},
   "source": [
    "# Figure 4 - benchmarking experiment"
   ]
  },
  {
   "cell_type": "code",
   "execution_count": 8,
   "id": "a1cbcbbd",
   "metadata": {
    "scrolled": true
   },
   "outputs": [
    {
     "data": {
      "text/html": [
       "<div>\n",
       "<style scoped>\n",
       "    .dataframe tbody tr th:only-of-type {\n",
       "        vertical-align: middle;\n",
       "    }\n",
       "\n",
       "    .dataframe tbody tr th {\n",
       "        vertical-align: top;\n",
       "    }\n",
       "\n",
       "    .dataframe thead th {\n",
       "        text-align: right;\n",
       "    }\n",
       "</style>\n",
       "<table border=\"1\" class=\"dataframe\">\n",
       "  <thead>\n",
       "    <tr style=\"text-align: right;\">\n",
       "      <th></th>\n",
       "      <th>100 test spectra</th>\n",
       "      <th>1000 test spectra</th>\n",
       "      <th>10000 test spectra</th>\n",
       "    </tr>\n",
       "  </thead>\n",
       "  <tbody>\n",
       "    <tr>\n",
       "      <th>0</th>\n",
       "      <td>0.216696</td>\n",
       "      <td>0.232724</td>\n",
       "      <td>0.234756</td>\n",
       "    </tr>\n",
       "    <tr>\n",
       "      <th>1</th>\n",
       "      <td>0.223083</td>\n",
       "      <td>0.234166</td>\n",
       "      <td>0.237676</td>\n",
       "    </tr>\n",
       "    <tr>\n",
       "      <th>2</th>\n",
       "      <td>0.196023</td>\n",
       "      <td>0.233083</td>\n",
       "      <td>0.236004</td>\n",
       "    </tr>\n",
       "    <tr>\n",
       "      <th>3</th>\n",
       "      <td>0.223550</td>\n",
       "      <td>0.237448</td>\n",
       "      <td>0.232886</td>\n",
       "    </tr>\n",
       "    <tr>\n",
       "      <th>4</th>\n",
       "      <td>0.246628</td>\n",
       "      <td>0.237992</td>\n",
       "      <td>0.237038</td>\n",
       "    </tr>\n",
       "  </tbody>\n",
       "</table>\n",
       "</div>"
      ],
      "text/plain": [
       "   100 test spectra  1000 test spectra  10000 test spectra\n",
       "0          0.216696           0.232724            0.234756\n",
       "1          0.223083           0.234166            0.237676\n",
       "2          0.196023           0.233083            0.236004\n",
       "3          0.223550           0.237448            0.232886\n",
       "4          0.246628           0.237992            0.237038"
      ]
     },
     "execution_count": 8,
     "metadata": {},
     "output_type": "execute_result"
    }
   ],
   "source": [
    "filename = \"figures_data/experiment_test_set.csv\"\n",
    "experiment1 = pd.read_csv(filename , sep=\";\")\n",
    "experiment1.head()"
   ]
  },
  {
   "cell_type": "code",
   "execution_count": 9,
   "id": "18ad1a9b",
   "metadata": {},
   "outputs": [
    {
     "name": "stdout",
     "output_type": "stream",
     "text": [
      "<class 'pandas.core.frame.DataFrame'>\n",
      "RangeIndex: 1000 entries, 0 to 999\n",
      "Data columns (total 3 columns):\n",
      " #   Column              Non-Null Count  Dtype  \n",
      "---  ------              --------------  -----  \n",
      " 0   100 test spectra    998 non-null    float64\n",
      " 1   1000 test spectra   100 non-null    float64\n",
      " 2   10000 test spectra  10 non-null     float64\n",
      "dtypes: float64(3)\n",
      "memory usage: 23.6 KB\n"
     ]
    }
   ],
   "source": [
    "experiment1.info()"
   ]
  },
  {
   "cell_type": "code",
   "execution_count": 10,
   "id": "adf9d923",
   "metadata": {},
   "outputs": [
    {
     "data": {
      "text/plain": [
       "<AxesSubplot:ylabel='Frequency'>"
      ]
     },
     "execution_count": 10,
     "metadata": {},
     "output_type": "execute_result"
    },
    {
     "data": {
      "image/png": "[encoded data removed]",
      "text/plain": [
       "<Figure size 432x288 with 1 Axes>"
      ]
     },
     "metadata": {
      "needs_background": "light"
     },
     "output_type": "display_data"
    }
   ],
   "source": [
    "experiment1.iloc[:, 1].plot(kind=\"hist\", bins=20, rwidth=0.8)"
   ]
  },
  {
   "cell_type": "code",
   "execution_count": 11,
   "id": "1f204395",
   "metadata": {},
   "outputs": [
    {
     "data": {
      "text/plain": [
       "Text(0.5, 0, 'RMSE')"
      ]
     },
     "execution_count": 11,
     "metadata": {},
     "output_type": "execute_result"
    },
    {
     "data": {
      "image/png": "[encoded data removed]",
      "text/plain": [
       "<Figure size 432x288 with 1 Axes>"
      ]
     },
     "metadata": {},
     "output_type": "display_data"
    }
   ],
   "source": [
    "plt.style.use(\"seaborn-dark\")\n",
    "\n",
    "experiment1.plot(kind=\"hist\", bins=30, rwidth=0.8,\n",
    "                 cmap=\"viridis\", grid=True)\n",
    "plt.xlabel(\"RMSE\")"
   ]
  },
  {
   "cell_type": "code",
   "execution_count": 12,
   "id": "e347ed78",
   "metadata": {},
   "outputs": [
    {
     "data": {
      "text/html": [
       "<div>\n",
       "<style scoped>\n",
       "    .dataframe tbody tr th:only-of-type {\n",
       "        vertical-align: middle;\n",
       "    }\n",
       "\n",
       "    .dataframe tbody tr th {\n",
       "        vertical-align: top;\n",
       "    }\n",
       "\n",
       "    .dataframe thead th {\n",
       "        text-align: right;\n",
       "    }\n",
       "</style>\n",
       "<table border=\"1\" class=\"dataframe\">\n",
       "  <thead>\n",
       "    <tr style=\"text-align: right;\">\n",
       "      <th></th>\n",
       "      <th>rmse</th>\n",
       "    </tr>\n",
       "    <tr>\n",
       "      <th>molecular_weight_range</th>\n",
       "      <th></th>\n",
       "    </tr>\n",
       "  </thead>\n",
       "  <tbody>\n",
       "    <tr>\n",
       "      <th>0-200 Da</th>\n",
       "      <td>0.266</td>\n",
       "    </tr>\n",
       "    <tr>\n",
       "      <th>200-300 Da</th>\n",
       "      <td>0.267</td>\n",
       "    </tr>\n",
       "    <tr>\n",
       "      <th>300-400 Da</th>\n",
       "      <td>0.257</td>\n",
       "    </tr>\n",
       "    <tr>\n",
       "      <th>400-500 Da</th>\n",
       "      <td>0.281</td>\n",
       "    </tr>\n",
       "    <tr>\n",
       "      <th>500-600 Da</th>\n",
       "      <td>0.242</td>\n",
       "    </tr>\n",
       "  </tbody>\n",
       "</table>\n",
       "</div>"
      ],
      "text/plain": [
       "                         rmse\n",
       "molecular_weight_range       \n",
       "0-200 Da                0.266\n",
       "200-300 Da              0.267\n",
       "300-400 Da              0.257\n",
       "400-500 Da              0.281\n",
       "500-600 Da              0.242"
      ]
     },
     "execution_count": 12,
     "metadata": {},
     "output_type": "execute_result"
    }
   ],
   "source": [
    "filename = \"figures_data/experiment_weight_ranges.csv\"\n",
    "experiment2 = pd.read_csv(filename , sep=\";\")\n",
    "experiment2 = experiment2.set_index(\"molecular_weight_range\")\n",
    "experiment2.head()"
   ]
  },
  {
   "cell_type": "code",
   "execution_count": 13,
   "id": "284cea0c",
   "metadata": {},
   "outputs": [
    {
     "data": {
      "text/plain": [
       "Text(0, 0.5, 'Molecular weight range')"
      ]
     },
     "execution_count": 13,
     "metadata": {},
     "output_type": "execute_result"
    },
    {
     "data": {
      "image/png": "[encoded data removed]",
      "text/plain": [
       "<Figure size 432x288 with 1 Axes>"
      ]
     },
     "metadata": {},
     "output_type": "display_data"
    }
   ],
   "source": [
    "plt.style.use(\"seaborn-dark\")\n",
    "\n",
    "experiment2[::-1].plot(kind=\"barh\",\n",
    "                       color=\"teal\", grid=True, legend=False)\n",
    "plt.xlim(0, 0.35)\n",
    "plt.xlabel(\"RMSE\")\n",
    "plt.ylabel(\"Molecular weight range\")"
   ]
  },
  {
   "cell_type": "code",
   "execution_count": 14,
   "id": "99ba1f97",
   "metadata": {},
   "outputs": [
    {
     "data": {
      "text/html": [
       "<div>\n",
       "<style scoped>\n",
       "    .dataframe tbody tr th:only-of-type {\n",
       "        vertical-align: middle;\n",
       "    }\n",
       "\n",
       "    .dataframe tbody tr th {\n",
       "        vertical-align: top;\n",
       "    }\n",
       "\n",
       "    .dataframe thead th {\n",
       "        text-align: right;\n",
       "    }\n",
       "</style>\n",
       "<table border=\"1\" class=\"dataframe\">\n",
       "  <thead>\n",
       "    <tr style=\"text-align: right;\">\n",
       "      <th></th>\n",
       "      <th>RMSE</th>\n",
       "    </tr>\n",
       "    <tr>\n",
       "      <th>chemical_class</th>\n",
       "      <th></th>\n",
       "    </tr>\n",
       "  </thead>\n",
       "  <tbody>\n",
       "    <tr>\n",
       "      <th>Organic acids and derivatives</th>\n",
       "      <td>0.314</td>\n",
       "    </tr>\n",
       "    <tr>\n",
       "      <th>Organoheterocyclic compounds</th>\n",
       "      <td>0.299</td>\n",
       "    </tr>\n",
       "    <tr>\n",
       "      <th>Phenylpropanoids and polyketides</th>\n",
       "      <td>0.296</td>\n",
       "    </tr>\n",
       "    <tr>\n",
       "      <th>Lipids and lipid-like molecules</th>\n",
       "      <td>0.321</td>\n",
       "    </tr>\n",
       "    <tr>\n",
       "      <th>Benzenoids</th>\n",
       "      <td>0.297</td>\n",
       "    </tr>\n",
       "  </tbody>\n",
       "</table>\n",
       "</div>"
      ],
      "text/plain": [
       "                                   RMSE\n",
       "chemical_class                         \n",
       "Organic acids and derivatives     0.314\n",
       "Organoheterocyclic compounds      0.299\n",
       "Phenylpropanoids and polyketides  0.296\n",
       "Lipids and lipid-like molecules   0.321\n",
       "Benzenoids                        0.297"
      ]
     },
     "execution_count": 14,
     "metadata": {},
     "output_type": "execute_result"
    }
   ],
   "source": [
    "filename = \"figures_data/experiment_chemical_class.csv\"\n",
    "experiment3 = pd.read_csv(filename , sep=\";\")\n",
    "experiment3 = experiment3.set_index(\"chemical_class\")\n",
    "experiment3.head()"
   ]
  },
  {
   "cell_type": "code",
   "execution_count": 15,
   "id": "a9430064",
   "metadata": {},
   "outputs": [
    {
     "data": {
      "text/plain": [
       "Text(0, 0.5, 'Chemical class')"
      ]
     },
     "execution_count": 15,
     "metadata": {},
     "output_type": "execute_result"
    },
    {
     "data": {
      "image/png": "[encoded data removed]",
      "text/plain": [
       "<Figure size 432x288 with 1 Axes>"
      ]
     },
     "metadata": {},
     "output_type": "display_data"
    }
   ],
   "source": [
    "plt.style.use(\"seaborn-dark\")\n",
    "\n",
    "experiment3[::-1].plot(kind=\"barh\",\n",
    "                       color=\"teal\", grid=True, legend=False)\n",
    "plt.xlim(0, 0.35)\n",
    "plt.xlabel(\"RMSE\")\n",
    "plt.ylabel(\"Chemical class\")"
   ]
  },
  {
   "cell_type": "code",
   "execution_count": 16,
   "id": "d5abe69f",
   "metadata": {},
   "outputs": [
    {
     "data": {
      "image/png": "[encoded data removed]",
      "text/plain": [
       "<Figure size 504x648 with 2 Axes>"
      ]
     },
     "metadata": {},
     "output_type": "display_data"
    }
   ],
   "source": [
    "plt.style.use(\"seaborn-white\")\n",
    "\n",
    "fig, (ax1, ax2) = plt.subplots(2, 1, figsize=(7, 9),\n",
    "                              gridspec_kw={\n",
    "                               'width_ratios': [1],\n",
    "                               'height_ratios': [1.0, 0.7]})\n",
    "\n",
    "\n",
    "experiment2[::-1].plot(kind=\"barh\",\n",
    "                       color=\"teal\", grid=True, legend=False,\n",
    "                      ax=ax1)\n",
    "experiment3[::-1].plot(kind=\"barh\",\n",
    "                       color=\"teal\", grid=True, legend=False,\n",
    "                      ax=ax2)\n",
    "\n",
    "ax1.set_xlim(0, 0.35)\n",
    "ax2.set_xlim(0, 0.35)\n",
    "ax1.set_xlabel(\"RMSE\")\n",
    "ax2.set_xlabel(\"RMSE\")\n",
    "ax1.set_ylabel(\"Molecular weights\", fontsize=14)\n",
    "ax2.set_ylabel(\"Chemical class\", fontsize=14)\n",
    "ax1.spines[:].set_linewidth(3)\n",
    "ax2.spines[:].set_linewidth(3)\n",
    "plt.savefig(\"benchmarking_experiment_01.png\", dpi=400,\n",
    "           bbox_inches=\"tight\")\n",
    "plt.savefig(\"benchmarking_experiment_01.svg\", dpi=400,\n",
    "           bbox_inches=\"tight\")"
   ]
  },
  {
   "cell_type": "code",
   "execution_count": 17,
   "id": "25d24356",
   "metadata": {},
   "outputs": [],
   "source": [
    "data = experiment1.iloc[:, 2]\n",
    "#data = data/max(data)\n",
    "x = np.linspace(experiment1.min().min(), experiment1.max().max(), 100)\n",
    "histogram = np.histogram(data, x)"
   ]
  },
  {
   "cell_type": "code",
   "execution_count": 18,
   "id": "d8d3bafd",
   "metadata": {},
   "outputs": [],
   "source": [
    "histogram = np.histogram(data, x)"
   ]
  },
  {
   "cell_type": "code",
   "execution_count": 20,
   "id": "dff3b8f3",
   "metadata": {
    "scrolled": false
   },
   "outputs": [
    {
     "data": {
      "image/png": "[encoded data removed]",
      "text/plain": [
       "<Figure size 720x720 with 1 Axes>"
      ]
     },
     "metadata": {},
     "output_type": "display_data"
    }
   ],
   "source": [
    "from matplotlib.colors import LinearSegmentedColormap\n",
    "\n",
    "colors = [\"crimson\", \"lightblue\", \"teal\"]\n",
    "cmap1 = LinearSegmentedColormap.from_list(\"mycmap\", colors)\n",
    "plt.style.use('seaborn-white')\n",
    "shift = 1.05#0.8\n",
    "alpha = 1.0 #0.5\n",
    "\n",
    "# Create plot\n",
    "fig, ax = plt.subplots(figsize=(10,10))\n",
    "\n",
    "x = np.linspace(experiment1.min().min(), experiment1.max().max(), 50)\n",
    "x_middle = x[:-1] + (x[1] - x[0])/2\n",
    "\n",
    "num = experiment1.shape[1]\n",
    "labels = [\"100 test spectra\", \"1,000 test spectra\", \"10,000 test spectra\"]\n",
    "\n",
    "for i in range(3):\n",
    "    data = experiment1.iloc[:, i].dropna()\n",
    "    #data = data/max(data)\n",
    "    histogram = np.histogram(data, x)\n",
    "    distribution = histogram[0]/np.max(histogram[0])\n",
    "    ax.fill_between(x_middle, -shift*i, -shift*i + distribution, color=cmap1(i/num), alpha=alpha)\n",
    "    if i > 0:\n",
    "        plt.plot(x_middle, -shift*i + distribution, color=\"white\")\n",
    "    #if bin_content:\n",
    "    ax.text(x[0] + 0.005, -shift*i + 0.8*shift,\n",
    "             labels[i],\n",
    "             #f\"RMSE distribution for subsets of \\n {labels[i]}\",\n",
    "            fontsize=16)#, color=\"white\")\n",
    "\n",
    "plt.xticks(fontsize=14)\n",
    "#plt.yticks(-shift*np.arange(num), labels, fontsize=14)\n",
    "plt.tick_params(left=False, labelleft=False, width=8)\n",
    "plt.xlabel(\"RMSE\", fontsize=14)\n",
    "#plt.ylabel(ylabel, fontsize=14)\n",
    "plt.xlim([x[0], x[-1]])\n",
    "plt.ylim([-2*shift, shift])\n",
    "plt.axhline(y=-shift, color=\"black\", linewidth=2)\n",
    "plt.axhline(y=0, color=\"black\", linewidth=2)\n",
    "#ax.tick_params(width=8)\n",
    "ax.spines[:].set_linewidth(4)\n",
    "plt.gca().xaxis.grid(True)\n",
    "plt.savefig(\"benchmarking_experiment_02.png\", dpi=400,\n",
    "           bbox_inches=\"tight\")\n",
    "plt.savefig(\"benchmarking_experiment_02.svg\", dpi=400,\n",
    "           bbox_inches=\"tight\")"
   ]
  },
  {
   "cell_type": "code",
   "execution_count": 22,
   "id": "e250e797",
   "metadata": {},
   "outputs": [
    {
     "data": {
      "text/plain": [
       "<AxesSubplot:>"
      ]
     },
     "execution_count": 22,
     "metadata": {},
     "output_type": "execute_result"
    },
    {
     "data": {
      "image/png": "[encoded data removed]",
      "text/plain": [
       "<Figure size 432x288 with 1 Axes>"
      ]
     },
     "metadata": {},
     "output_type": "display_data"
    }
   ],
   "source": [
    "import seaborn as sb\n",
    "\n",
    "sb.boxplot(data=experiment1)"
   ]
  },
  {
   "cell_type": "code",
   "execution_count": null,
   "id": "1ade500e",
   "metadata": {},
   "outputs": [],
   "source": []
  }
 ],
 "metadata": {
  "kernelspec": {
   "display_name": "Python 3 (ipykernel)",
   "language": "python",
   "name": "python3"
  },
  "language_info": {
   "codemirror_mode": {
    "name": "ipython",
    "version": 3
   },
   "file_extension": ".py",
   "mimetype": "text/x-python",
   "name": "python",
   "nbconvert_exporter": "python",
   "pygments_lexer": "ipython3",
   "version": "3.8.12"
  }
 },
 "nbformat": 4,
 "nbformat_minor": 5
}
